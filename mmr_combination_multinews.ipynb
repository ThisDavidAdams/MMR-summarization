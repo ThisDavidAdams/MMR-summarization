{
  "nbformat": 4,
  "nbformat_minor": 0,
  "metadata": {
    "accelerator": "GPU",
    "colab": {
      "name": "mmr_combination_multinews.ipynb",
      "provenance": [],
      "collapsed_sections": [],
      "machine_shape": "hm",
      "authorship_tag": "ABX9TyOw3nEC16JR6C8X768rySKZ",
      "include_colab_link": true
    },
    "kernelspec": {
      "display_name": "Python 3",
      "name": "python3"
    }
  },
  "cells": [
    {
      "cell_type": "markdown",
      "metadata": {
        "id": "view-in-github",
        "colab_type": "text"
      },
      "source": [
        "<a href=\"https://colab.research.google.com/github/ThisDavidAdams/MMR-summarization/blob/main/mmr_combination_multinews.ipynb\" target=\"_parent\"><img src=\"https://colab.research.google.com/assets/colab-badge.svg\" alt=\"Open In Colab\"/></a>"
      ]
    },
    {
      "cell_type": "markdown",
      "metadata": {
        "id": "IryWTOUKHGz0"
      },
      "source": [
        "# Setup"
      ]
    },
    {
      "cell_type": "markdown",
      "metadata": {
        "id": "37vo97Rz48Ev"
      },
      "source": [
        "First, **change runtime type** to GPU."
      ]
    },
    {
      "cell_type": "markdown",
      "metadata": {
        "id": "-Ws3cXpvBpIW"
      },
      "source": [
        "Install Mallet for LDA to colab runtime:"
      ]
    },
    {
      "cell_type": "code",
      "metadata": {
        "id": "2jdcxypFkDIx"
      },
      "source": [
        "!wget http://mallet.cs.umass.edu/dist/mallet-2.0.8.zip\n",
        "!unzip mallet-2.0.8.zip"
      ],
      "execution_count": null,
      "outputs": []
    },
    {
      "cell_type": "markdown",
      "metadata": {
        "id": "u24gmXPPBwgC"
      },
      "source": [
        "Go to your working drive:"
      ]
    },
    {
      "cell_type": "code",
      "metadata": {
        "id": "_F7JP6RLDgMx",
        "colab": {
          "base_uri": "https://localhost:8080/"
        },
        "outputId": "e5640025-407c-4b13-cdf7-881e387c021e"
      },
      "source": [
        "from google.colab import drive\n",
        "drive.mount('/content/drive')"
      ],
      "execution_count": null,
      "outputs": [
        {
          "output_type": "stream",
          "text": [
            "Mounted at /content/drive\n"
          ],
          "name": "stdout"
        }
      ]
    },
    {
      "cell_type": "code",
      "metadata": {
        "id": "qdr50nZTDlNM",
        "colab": {
          "base_uri": "https://localhost:8080/"
        },
        "outputId": "4eda90e2-d4b6-49c4-9768-f5105c8a5bdf"
      },
      "source": [
        "%cd /content/drive/MyDrive/MMRSumm/"
      ],
      "execution_count": null,
      "outputs": [
        {
          "output_type": "stream",
          "text": [
            "/content/drive/MyDrive/MMRSumm\n"
          ],
          "name": "stdout"
        }
      ]
    },
    {
      "cell_type": "code",
      "metadata": {
        "id": "lUBSRHJjMtDX"
      },
      "source": [
        "!export PYTHONPATH=."
      ],
      "execution_count": null,
      "outputs": []
    },
    {
      "cell_type": "markdown",
      "metadata": {
        "id": "XBR8TFSDRHlZ"
      },
      "source": [
        "Install libraries:"
      ]
    },
    {
      "cell_type": "code",
      "metadata": {
        "id": "bMjwpq2ljwEo"
      },
      "source": [
        "!pip install pyLDAvis"
      ],
      "execution_count": null,
      "outputs": []
    },
    {
      "cell_type": "code",
      "metadata": {
        "id": "rk-ICK7MmKl2"
      },
      "source": [
        "!pip install -r requirements.txt"
      ],
      "execution_count": null,
      "outputs": []
    },
    {
      "cell_type": "code",
      "metadata": {
        "id": "RpzE719z6O_h"
      },
      "source": [
        "!pip install \"click==7.1.1\""
      ],
      "execution_count": null,
      "outputs": []
    },
    {
      "cell_type": "code",
      "metadata": {
        "id": "iGxZjPvQ9l3a"
      },
      "source": [
        "!python3 -m spacy download en_core_web_sm"
      ],
      "execution_count": null,
      "outputs": []
    },
    {
      "cell_type": "markdown",
      "metadata": {
        "id": "y78ll1xHBMs8"
      },
      "source": [
        "Now **restart** the runtime."
      ]
    },
    {
      "cell_type": "markdown",
      "metadata": {
        "id": "PI0_7hrOBT3n"
      },
      "source": [
        "Run the next three cells."
      ]
    },
    {
      "cell_type": "code",
      "metadata": {
        "id": "n9QVwzLoBgxp",
        "colab": {
          "base_uri": "https://localhost:8080/"
        },
        "outputId": "24919701-54a9-48bb-ce5d-a5951be8476d"
      },
      "source": [
        "from google.colab import drive\n",
        "drive.mount('/content/drive')"
      ],
      "execution_count": null,
      "outputs": [
        {
          "output_type": "stream",
          "text": [
            "Drive already mounted at /content/drive; to attempt to forcibly remount, call drive.mount(\"/content/drive\", force_remount=True).\n"
          ],
          "name": "stdout"
        }
      ]
    },
    {
      "cell_type": "code",
      "metadata": {
        "id": "JAv_GI6dBgxu",
        "colab": {
          "base_uri": "https://localhost:8080/"
        },
        "outputId": "2148d58c-5d23-4a25-9428-f05f8b4b3292"
      },
      "source": [
        "%cd /content/drive/MyDrive/MMRSumm/"
      ],
      "execution_count": null,
      "outputs": [
        {
          "output_type": "stream",
          "text": [
            "/content/drive/MyDrive/MMRSumm\n"
          ],
          "name": "stdout"
        }
      ]
    },
    {
      "cell_type": "code",
      "metadata": {
        "id": "yl1xRcBQBgxx"
      },
      "source": [
        "!export PYTHONPATH=."
      ],
      "execution_count": null,
      "outputs": []
    },
    {
      "cell_type": "markdown",
      "metadata": {
        "id": "146feILiBimh"
      },
      "source": [
        "Now run the appropriate script."
      ]
    },
    {
      "cell_type": "markdown",
      "metadata": {
        "id": "geTDKNPWHMNh"
      },
      "source": [
        "# Optimization (optional)"
      ]
    },
    {
      "cell_type": "markdown",
      "metadata": {
        "id": "8Uen2fA8GKgv"
      },
      "source": [
        "To optimize, you'll need a completed output set first, or at least 100 samples. If none exists, run the MMR combination script with the models only argument."
      ]
    },
    {
      "cell_type": "code",
      "metadata": {
        "id": "p9vy2HHYGcuB"
      },
      "source": [
        "!python mmr_combination_multinews.py --cloud --mmr_reduction --output_file outputs/mmr_sum_set.jsonl --models_only --run_until 100"
      ],
      "execution_count": null,
      "outputs": []
    },
    {
      "cell_type": "markdown",
      "metadata": {
        "id": "cBBo4MXcG1fY"
      },
      "source": [
        "Now you can run the optimization script. Use the arguments to select your summary set input file, your similarity measure, your Neptune project name, and your Netpune API token."
      ]
    },
    {
      "cell_type": "code",
      "metadata": {
        "colab": {
          "background_save": true
        },
        "id": "1kzNn4VsjCIl"
      },
      "source": [
        "!python optimize_add_mmr_to_models.py --sim doc2vec --input_file outputs/mmr_sum_set.jsonl"
      ],
      "execution_count": null,
      "outputs": []
    },
    {
      "cell_type": "markdown",
      "metadata": {
        "id": "hHmEPVRgsJda"
      },
      "source": [
        "# Summarization"
      ]
    },
    {
      "cell_type": "markdown",
      "metadata": {
        "id": "G9VR0A8fsUkk"
      },
      "source": [
        "Now you can run the summarization script according to your needs. This is a very large and time-consuming task, so you may want to split the work into stages. We recommend generating the output set with all of the model outputs and mmr outputs before calculating their rouge scores, if running the script on the entire set."
      ]
    },
    {
      "cell_type": "markdown",
      "metadata": {
        "id": "I5BLarIdzsFL"
      },
      "source": [
        "This will likely take a few days, and the use of the --run_from argument to start where you left off."
      ]
    },
    {
      "cell_type": "code",
      "metadata": {
        "id": "IPlqiyTg0JN5"
      },
      "source": [
        "!python optimize_mmr_combination_multinews.py --cloud --mmr_reduction --output_file outputs/mmr_sum_set.jsonl --run_from 1 --run_until 10"
      ],
      "execution_count": null,
      "outputs": []
    },
    {
      "cell_type": "markdown",
      "metadata": {
        "id": "pYbJKIkd09yz"
      },
      "source": [
        "For example, if the last-written line in the JSONL file was 1023 (determined by manually opening the output file and checking), run the script with a --run_from argument of 1024. The script will append the additional output to the same output file. Change the --run_from argument every time to continue generating the output. Continue this process until the entire file has been written."
      ]
    },
    {
      "cell_type": "markdown",
      "metadata": {
        "id": "9uFjKp2s3DhL"
      },
      "source": [
        "# Alternative Summarization (Optional)\n",
        "\n"
      ]
    },
    {
      "cell_type": "markdown",
      "metadata": {
        "id": "tEa4nN422N5B"
      },
      "source": [
        "Alternatively, the script contains arguments to divide the work in different ways.\n",
        "\n",
        "The --models_only argument will generate the model outputs only."
      ]
    },
    {
      "cell_type": "code",
      "metadata": {
        "id": "F1-wZE6a-GhC"
      },
      "source": [
        "!python mmr_combination_multinews.py --cloud --models_only --mmr_reduction --output_file outputs/mmr_sum_set.jsonl --run_until 10"
      ],
      "execution_count": null,
      "outputs": []
    },
    {
      "cell_type": "markdown",
      "metadata": {
        "id": "ZuTgZnmxwwiU"
      },
      "source": [
        "The --mmr_only argument can be used to add MMR output to the model outputs file. Don't use the --mmr_reduction argument if you used it in the models-only run."
      ]
    },
    {
      "cell_type": "code",
      "metadata": {
        "id": "VtAB4ILZv5QH"
      },
      "source": [
        "!python mmr_combination_multinews.py --cloud --mmr_only --input_file outputs/mmr_sum_set.jsonl --output_file outputs/mmr_sum_set_complete.jsonl --run_until 10"
      ],
      "execution_count": null,
      "outputs": []
    },
    {
      "cell_type": "markdown",
      "metadata": {
        "id": "LzASpGEuxI1x"
      },
      "source": [
        "The --rouge_only argument can be used to calculate the rouge scores of the output file."
      ]
    },
    {
      "cell_type": "code",
      "metadata": {
        "id": "cqSmwwnUADBj"
      },
      "source": [
        "!python mmr_combination_multinews.py --cloud --input_file outputs/mmr_sum_set_complete.jsonl --rouge_only --rouge_file outputs/rouge_test.txt"
      ],
      "execution_count": null,
      "outputs": []
    },
    {
      "cell_type": "markdown",
      "metadata": {
        "id": "XL-uX35sx7_5"
      },
      "source": [
        "Or all three can be done at once by simply running the script with the --rouge argument."
      ]
    },
    {
      "cell_type": "code",
      "metadata": {
        "id": "CIFpxOwlx_mQ"
      },
      "source": [
        "!python mmr_combination_multinews.py --cloud --rouge --mmr_reduction --output_file outputs/mmr_sum_set_complete.jsonl --run_until 10 --rouge_file outputs/rouge_test.txt"
      ],
      "execution_count": null,
      "outputs": []
    },
    {
      "cell_type": "markdown",
      "metadata": {
        "id": "LnwB2dZeO25x"
      },
      "source": [
        "# Setup"
      ]
    },
    {
      "cell_type": "markdown",
      "metadata": {
        "id": "IFCMsqihO25y"
      },
      "source": [
        "First, **change runtime type** to GPU."
      ]
    },
    {
      "cell_type": "markdown",
      "metadata": {
        "id": "_GFcJBlcO25z"
      },
      "source": [
        "Install Mallet for LDA to colab runtime:"
      ]
    },
    {
      "cell_type": "code",
      "metadata": {
        "id": "3XuaUu6VO25z"
      },
      "source": [
        "!wget http://mallet.cs.umass.edu/dist/mallet-2.0.8.zip\n",
        "!unzip mallet-2.0.8.zip"
      ],
      "execution_count": null,
      "outputs": []
    },
    {
      "cell_type": "markdown",
      "metadata": {
        "id": "xAqi2O0pO250"
      },
      "source": [
        "Go to your working drive:"
      ]
    },
    {
      "cell_type": "code",
      "metadata": {
        "id": "bFJLsqfZO250"
      },
      "source": [
        "from google.colab import drive\n",
        "drive.mount('/content/drive')"
      ],
      "execution_count": null,
      "outputs": []
    },
    {
      "cell_type": "code",
      "metadata": {
        "id": "l5O5AYmQO251"
      },
      "source": [
        "%cd /content/drive/MyDrive/MMRSumm/"
      ],
      "execution_count": null,
      "outputs": []
    },
    {
      "cell_type": "code",
      "metadata": {
        "id": "9-8EusueO251"
      },
      "source": [
        "!export PYTHONPATH=."
      ],
      "execution_count": null,
      "outputs": []
    },
    {
      "cell_type": "markdown",
      "metadata": {
        "id": "ZZLuMp9-O252"
      },
      "source": [
        "Install libraries:"
      ]
    },
    {
      "cell_type": "code",
      "metadata": {
        "id": "6XcK7-eFO252"
      },
      "source": [
        "!pip install pyLDAvis"
      ],
      "execution_count": null,
      "outputs": []
    },
    {
      "cell_type": "code",
      "metadata": {
        "id": "-pBpPLBZO253"
      },
      "source": [
        "!pip install -r requirements.txt"
      ],
      "execution_count": null,
      "outputs": []
    },
    {
      "cell_type": "code",
      "metadata": {
        "id": "Q28Y7hOxO254"
      },
      "source": [
        "!pip install \"click==7.1.1\""
      ],
      "execution_count": null,
      "outputs": []
    },
    {
      "cell_type": "code",
      "metadata": {
        "id": "HYCOnhjJO254"
      },
      "source": [
        "!python3 -m spacy download en_core_web_sm"
      ],
      "execution_count": null,
      "outputs": []
    },
    {
      "cell_type": "markdown",
      "metadata": {
        "id": "CJVqL7xXO255"
      },
      "source": [
        "Now **restart** the runtime."
      ]
    },
    {
      "cell_type": "markdown",
      "metadata": {
        "id": "RvVoHql5O255"
      },
      "source": [
        "Run the next three cells."
      ]
    },
    {
      "cell_type": "code",
      "metadata": {
        "id": "S7pSW5RCO255"
      },
      "source": [
        "from google.colab import drive\n",
        "drive.mount('/content/drive')"
      ],
      "execution_count": null,
      "outputs": []
    },
    {
      "cell_type": "code",
      "metadata": {
        "id": "sILooi0TO256"
      },
      "source": [
        "%cd /content/drive/MyDrive/MMRSumm/"
      ],
      "execution_count": null,
      "outputs": []
    },
    {
      "cell_type": "code",
      "metadata": {
        "id": "NG3SYgChO256"
      },
      "source": [
        "!export PYTHONPATH=."
      ],
      "execution_count": null,
      "outputs": []
    },
    {
      "cell_type": "markdown",
      "metadata": {
        "id": "FqMgvJ28O256"
      },
      "source": [
        "Now run the appropriate script."
      ]
    },
    {
      "cell_type": "markdown",
      "metadata": {
        "id": "bKtWt0-AO257"
      },
      "source": [
        "# Optimization (optional)"
      ]
    },
    {
      "cell_type": "markdown",
      "metadata": {
        "id": "svTilIa6O257"
      },
      "source": [
        "To optimize, you'll need a completed output set first, or at least 100 samples. If none exists, run the MMR combination script with the models only argument."
      ]
    },
    {
      "cell_type": "code",
      "metadata": {
        "id": "MHCmaKRRO258"
      },
      "source": [
        "!python mmr_combination_multinews.py --cloud --output_file outputs/mmr_opt_set.jsonl --models_only --run_until 100"
      ],
      "execution_count": null,
      "outputs": []
    },
    {
      "cell_type": "markdown",
      "metadata": {
        "id": "RaizCNIgO258"
      },
      "source": [
        "Now you can run the optimization script. Use the arguments to select your summary set input file, your similarity measure, your Neptune project name, and your Netpune API token."
      ]
    },
    {
      "cell_type": "code",
      "metadata": {
        "id": "1K8FnMd-O258"
      },
      "source": [
        "!python optimize_mmr_combination_multinews.py --cloud --num_calls 100 --sim doc2vec --input_file outputs/mmr_opt_set.jsonl"
      ],
      "execution_count": null,
      "outputs": []
    },
    {
      "cell_type": "markdown",
      "metadata": {
        "id": "lTsZ2TK1O258"
      },
      "source": [
        "# Summarization"
      ]
    },
    {
      "cell_type": "markdown",
      "metadata": {
        "id": "fhs3vlvyO259"
      },
      "source": [
        "Now you can run the summarization script according to your needs. This is a very large and time-consuming task, so you may want to split the work into stages. We recommend generating the output set with all of the model outputs and mmr outputs before calculating their rouge scores, if running the script on the entire set."
      ]
    },
    {
      "cell_type": "markdown",
      "metadata": {
        "id": "Zk1j56cCO259"
      },
      "source": [
        "This will likely take a few days, and the use of the --run_from argument to start where you left off."
      ]
    },
    {
      "cell_type": "code",
      "metadata": {
        "id": "Xo4l0UDkO259"
      },
      "source": [
        "!python mmr_combination_multinews.py --cloud --output_file outputs/mmr_test.jsonl --run_from 1 --run_until 10"
      ],
      "execution_count": null,
      "outputs": []
    },
    {
      "cell_type": "markdown",
      "metadata": {
        "id": "rWrZciN7O25-"
      },
      "source": [
        "For example, if the last-written line in the JSONL file was 1023 (determined by manually opening the output file and checking), run the script with a --run_from argument of 1024. The script will append the additional output to the same output file. Change the --run_from argument every time to continue generating the output. Continue this process until the entire file has been written."
      ]
    },
    {
      "cell_type": "markdown",
      "metadata": {
        "id": "ukUH1zNzO25-"
      },
      "source": [
        "# Alternative Summarization (Optional)\n",
        "\n"
      ]
    },
    {
      "cell_type": "markdown",
      "metadata": {
        "id": "IHk72sv1O25-"
      },
      "source": [
        "Alternatively, the script contains arguments to divide the work in different ways.\n",
        "\n",
        "The --models_only argument will generate the model outputs only."
      ]
    },
    {
      "cell_type": "code",
      "metadata": {
        "id": "lzHbgR0_O25_"
      },
      "source": [
        "!python mmr_combination_multinews.py --cloud --models_only --output_file outputs/mmr_test.jsonl --run_until 100"
      ],
      "execution_count": null,
      "outputs": []
    },
    {
      "cell_type": "markdown",
      "metadata": {
        "id": "G9YgIsZgO25_"
      },
      "source": [
        "The --mmr_only argument can be used to add MMR output to the model outputs file. Use an --mmr_reduction argument of 0 if you either already reduced the outputs in the previous step or don't want any reduction."
      ]
    },
    {
      "cell_type": "code",
      "metadata": {
        "id": "9GbYE4a8O25_"
      },
      "source": [
        "!python mmr_combination_multinews.py --cloud --mmr_only --mmr_reduction 0 --input_file outputs/mmr_test.jsonl --output_file outputs/mmr_test_complete.jsonl --run_until 100"
      ],
      "execution_count": null,
      "outputs": []
    },
    {
      "cell_type": "markdown",
      "metadata": {
        "id": "FXyidIMCO25_"
      },
      "source": [
        "The --rouge_only argument can be used to calculate the rouge scores of the output file."
      ]
    },
    {
      "cell_type": "code",
      "metadata": {
        "id": "EQw1MQBmO25_"
      },
      "source": [
        "!python mmr_combination_multinews.py --cloud --input_file outputs/mmr_test_complete.jsonl --rouge_only --rouge_file outputs/rouge_test.txt"
      ],
      "execution_count": null,
      "outputs": []
    },
    {
      "cell_type": "markdown",
      "metadata": {
        "id": "iD4Xg91fO25_"
      },
      "source": [
        "Or all three can be done at once by simply running the script with the --rouge argument."
      ]
    },
    {
      "cell_type": "code",
      "metadata": {
        "id": "rcVHiOEoO25_"
      },
      "source": [
        "!python mmr_combination_multinews.py --cloud --rouge --output_file outputs/mmr_test_complete.jsonl --run_until 100 --rouge_file outputs/rouge_test.txt"
      ],
      "execution_count": null,
      "outputs": []
    }
  ]
}